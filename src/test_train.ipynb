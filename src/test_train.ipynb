{
 "cells": [
  {
   "cell_type": "code",
   "execution_count": null,
   "metadata": {},
   "outputs": [],
   "source": [
    "import os\n",
    "\n",
    "# Set the CUDA_VISIBLE_DEVICES environment variable to a list of GPU device IDs\n",
    "os.environ['CUDA_VISIBLE_DEVICES'] = '1'\n"
   ]
  },
  {
   "cell_type": "code",
   "execution_count": null,
   "metadata": {},
   "outputs": [],
   "source": [
    "import pytorch_lightning as pl\n",
    "import torch"
   ]
  },
  {
   "cell_type": "code",
   "execution_count": null,
   "metadata": {},
   "outputs": [],
   "source": [
    "from src.models.letr import Letr\n",
    "from LETR.clean_model.backbone import build_backbone\n",
    "from LETR.clean_model.transformer.transformer import build_transformer \n",
    "from LETR.clean_model.losses.losses import SetCriterion\n",
    "from LETR.clean_model.utils.matcher import build_matcher\n",
    "from LETR.data import build_dataset\n"
   ]
  },
  {
   "attachments": {},
   "cell_type": "markdown",
   "metadata": {},
   "source": [
    "### Initializing backbone and base\n"
   ]
  },
  {
   "cell_type": "code",
   "execution_count": null,
   "metadata": {},
   "outputs": [],
   "source": [
    "import argparse\n",
    "from args import get_args_parser\n",
    "\n",
    "parser = argparse.ArgumentParser(\n",
    "        \"LETR training and evaluation script\", parents=[get_args_parser()], allow_abbrev=False\n",
    ")\n",
    "args, _ = parser.parse_known_args()"
   ]
  },
  {
   "cell_type": "code",
   "execution_count": null,
   "metadata": {},
   "outputs": [],
   "source": [
    "args.output_dir = \"test_lightining\"\n",
    "args.batch_size = 1\n",
    "args.coco_path = \"data/wireframe_processed\"\n",
    "args.num_workers = 16\n",
    "args.lr = 1e-4\n",
    "args.dropout = 0\n",
    "args.lr_drop = 200"
   ]
  },
  {
   "cell_type": "code",
   "execution_count": null,
   "metadata": {},
   "outputs": [],
   "source": [
    "num_classes = 1\n"
   ]
  },
  {
   "cell_type": "code",
   "execution_count": null,
   "metadata": {},
   "outputs": [],
   "source": [
    "backbone = build_backbone(args)\n",
    "transformer = build_transformer(args)\n",
    "matcher = build_matcher(args, type=\"origin_line\")\n",
    "\n",
    "criterion = SetCriterion(\n",
    "        num_classes,\n",
    "        eos_coef=args.eos_coef,\n",
    "        args=args,\n",
    "        matcher=matcher,\n",
    "    )"
   ]
  },
  {
   "cell_type": "code",
   "execution_count": null,
   "metadata": {},
   "outputs": [],
   "source": [
    "dataset_train = build_dataset(image_set=\"train\", args=args)\n",
    "\n",
    "dataset_val = build_dataset(image_set=\"val\", args=args)"
   ]
  },
  {
   "cell_type": "code",
   "execution_count": null,
   "metadata": {},
   "outputs": [],
   "source": [
    "sampler_train = torch.utils.data.SequentialSampler(dataset_train)\n",
    "sampler_val = torch.utils.data.SequentialSampler(dataset_val)\n",
    "\n",
    "batch_sampler_train = torch.utils.data.BatchSampler(\n",
    "    sampler_train, args.batch_size, drop_last=True\n",
    ")\n"
   ]
  },
  {
   "cell_type": "code",
   "execution_count": null,
   "metadata": {},
   "outputs": [],
   "source": [
    "for e in batch_sampler_train:\n",
    "    break"
   ]
  },
  {
   "cell_type": "code",
   "execution_count": null,
   "metadata": {},
   "outputs": [],
   "source": [
    "from torch.utils.data import DataLoader\n",
    "from helper.misc import collate_fn"
   ]
  },
  {
   "cell_type": "code",
   "execution_count": null,
   "metadata": {},
   "outputs": [],
   "source": [
    "data_loader_train = DataLoader(\n",
    "    dataset_train,\n",
    "    batch_sampler=batch_sampler_train,\n",
    "    collate_fn=collate_fn,\n",
    "    num_workers=args.num_workers,\n",
    ")\n",
    "data_loader_val = DataLoader(\n",
    "    dataset_val,\n",
    "    args.batch_size,\n",
    "    sampler=sampler_val,\n",
    "    drop_last=False,\n",
    "    collate_fn=collate_fn,\n",
    "    num_workers=args.num_workers,\n",
    ")"
   ]
  },
  {
   "cell_type": "code",
   "execution_count": null,
   "metadata": {},
   "outputs": [],
   "source": [
    "from pytorch_lightning import Trainer\n",
    "from pytorch_lightning.loggers import WandbLogger\n",
    "wandb_logger = WandbLogger()\n"
   ]
  },
  {
   "cell_type": "code",
   "execution_count": null,
   "metadata": {},
   "outputs": [],
   "source": [
    "# trainer = Trainer(accelerator=\"gpu\", devices=[0], logger = wandb_logger)\n",
    "trainer = Trainer(accelerator=\"gpu\", devices=[0],  logger= wandb_logger, max_epochs=5)"
   ]
  },
  {
   "cell_type": "code",
   "execution_count": null,
   "metadata": {},
   "outputs": [],
   "source": [
    "model = Letr(backbone, transformer, criterion, num_classes, args.num_queries,lr_drop = args.lr_drop, batch_size = args.batch_size,lr = args.lr, aux_loss=args.aux_loss,layer1_num=args.layer1_num)\n",
    "model"
   ]
  },
  {
   "cell_type": "code",
   "execution_count": null,
   "metadata": {},
   "outputs": [],
   "source": [
    "trainer.fit(model, train_dataloaders=data_loader_train, val_dataloaders=data_loader_val)"
   ]
  }
 ],
 "metadata": {
  "kernelspec": {
   "display_name": "letr",
   "language": "python",
   "name": "python3"
  },
  "language_info": {
   "codemirror_mode": {
    "name": "ipython",
    "version": 3
   },
   "file_extension": ".py",
   "mimetype": "text/x-python",
   "name": "python",
   "nbconvert_exporter": "python",
   "pygments_lexer": "ipython3",
   "version": "3.8.16"
  },
  "orig_nbformat": 4
 },
 "nbformat": 4,
 "nbformat_minor": 2
}
